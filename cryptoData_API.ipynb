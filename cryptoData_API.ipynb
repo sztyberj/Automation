{
  "nbformat": 4,
  "nbformat_minor": 0,
  "metadata": {
    "colab": {
      "name": "cryptoData_API.ipynb",
      "provenance": [],
      "collapsed_sections": [],
      "authorship_tag": "ABX9TyM8f/NCLWliI38pV9lq3ego",
      "include_colab_link": true
    },
    "kernelspec": {
      "name": "python3",
      "display_name": "Python 3"
    },
    "language_info": {
      "name": "python"
    }
  },
  "cells": [
    {
      "cell_type": "markdown",
      "metadata": {
        "id": "view-in-github",
        "colab_type": "text"
      },
      "source": [
        "<a href=\"https://colab.research.google.com/github/sztyberj/Automation/blob/main/cryptoData_API.ipynb\" target=\"_parent\"><img src=\"https://colab.research.google.com/assets/colab-badge.svg\" alt=\"Open In Colab\"/></a>"
      ]
    },
    {
      "cell_type": "code",
      "metadata": {
        "id": "kg-A5e55Q_D9"
      },
      "source": [
        "#import libraries\n",
        "import requests\n",
        "import pandas as pd\n",
        "import json\n",
        "import numpy as np\n",
        "import matplotlib.pyplot as plt\n",
        "import matplotlib.dates as mdates\n",
        "import matplotlib.cbook as cbook\n",
        "from datetime import date\n"
      ],
      "execution_count": 183,
      "outputs": []
    },
    {
      "cell_type": "code",
      "metadata": {
        "id": "BQsCxvmZRZ4e"
      },
      "source": [
        "#API parameters\n",
        "key = 'a0de2e535f22173aef6a2c890444c693459365e8'\n",
        "start_date = '2013-01-01' \n",
        "today = date.today()\n",
        "end_date = today.strftime(\"%Y-%m-%d\")\n",
        "\n",
        "url = \"https://api.nomics.com/v1/currencies/sparkline?key=\"+key+\"&ids=BTC,ETH,XRP&start=\"+start_date+\"T00%3A00%3A00Z&end=\"+end_date+\"T00%3A00%3A00Z\""
      ],
      "execution_count": null,
      "outputs": []
    },
    {
      "cell_type": "code",
      "metadata": {
        "id": "hG_oFl2u2LFr"
      },
      "source": [
        "#clear data and create data frame\n",
        "data1 = requests.get(url).json()\n",
        "\n",
        "df = pd.DataFrame(data1)\n",
        "clear_data = {\"Name\":[],\"Price\":[],\"Date\":[]}\n",
        "\n",
        "for i in range(len(df.index)):\n",
        "  for t, p in zip(df.timestamps[i], df.prices[i]):\n",
        "      clear_data[\"Name\"].append(df.currency[i])\n",
        "      clear_data[\"Price\"].append(p)\n",
        "      clear_data[\"Date\"].append(t[:10])\n",
        "\n",
        "clear_df = pd.DataFrame(clear_data)"
      ],
      "execution_count": null,
      "outputs": []
    },
    {
      "cell_type": "code",
      "metadata": {
        "id": "BBz0iBGK9sW4"
      },
      "source": [
        "#create date plots\n",
        "list_of_crypto = clear_df['Name'].unique()\n",
        "number_of_one_crypto = (len(clear_df['Name'] == 'BTC')/10)\n",
        "\n",
        "\n",
        "\n"
      ],
      "execution_count": 224,
      "outputs": []
    },
    {
      "cell_type": "code",
      "metadata": {
        "id": "xIh-0GYmFymQ"
      },
      "source": [
        ""
      ],
      "execution_count": null,
      "outputs": []
    }
  ]
}