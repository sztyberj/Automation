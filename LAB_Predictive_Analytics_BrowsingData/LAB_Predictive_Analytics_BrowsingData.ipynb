{
  "nbformat": 4,
  "nbformat_minor": 0,
  "metadata": {
    "colab": {
      "name": "LAB_Predictive_Analytics_BrowsingData.ipynb",
      "provenance": [],
      "authorship_tag": "ABX9TyMUvuRa3YXcM0MDXFJgod7/",
      "include_colab_link": true
    },
    "kernelspec": {
      "name": "python3",
      "display_name": "Python 3"
    },
    "language_info": {
      "name": "python"
    }
  },
  "cells": [
    {
      "cell_type": "markdown",
      "metadata": {
        "id": "view-in-github",
        "colab_type": "text"
      },
      "source": [
        "<a href=\"https://colab.research.google.com/github/sztyberj/Automation/blob/main/LAB_Predictive_Analytics_BrowsingData/LAB_Predictive_Analytics_BrowsingData.ipynb\" target=\"_parent\"><img src=\"https://colab.research.google.com/assets/colab-badge.svg\" alt=\"Open In Colab\"/></a>"
      ]
    },
    {
      "cell_type": "code",
      "execution_count": 1,
      "metadata": {
        "id": "9tpZ8Cj6T3y9"
      },
      "outputs": [],
      "source": [
        "#Import libs\n",
        "import pandas as pd\n",
        "import matplotlib.pyplot as plt\n",
        "%matplotlib inline\n",
        "from mpl_toolkits.mplot3d import Axes3D\n",
        "from sklearn.decomposition import PCA"
      ]
    },
    {
      "cell_type": "code",
      "source": [
        ""
      ],
      "metadata": {
        "id": "17rof6K9V_hE"
      },
      "execution_count": null,
      "outputs": []
    }
  ]
}